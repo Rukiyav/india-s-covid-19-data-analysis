{
 "cells": [
  {
   "cell_type": "code",
   "execution_count": 3,
   "id": "cda0f0ad",
   "metadata": {},
   "outputs": [],
   "source": [
    "import pandas as pd\n",
    "import numpy as np\n",
    "import seaborn as sns\n",
    "import matplotlib.pyplot as plt"
   ]
  },
  {
   "cell_type": "code",
   "execution_count": 4,
   "id": "e9eb1110",
   "metadata": {},
   "outputs": [],
   "source": [
    "data = pd.read_csv(r'C:\\Users\\nsrid\\.jupyter\\covid_india.csv')"
   ]
  },
  {
   "cell_type": "code",
   "execution_count": 5,
   "id": "a4723198",
   "metadata": {},
   "outputs": [
    {
     "data": {
      "text/html": [
       "<div>\n",
       "<style scoped>\n",
       "    .dataframe tbody tr th:only-of-type {\n",
       "        vertical-align: middle;\n",
       "    }\n",
       "\n",
       "    .dataframe tbody tr th {\n",
       "        vertical-align: top;\n",
       "    }\n",
       "\n",
       "    .dataframe thead th {\n",
       "        text-align: right;\n",
       "    }\n",
       "</style>\n",
       "<table border=\"1\" class=\"dataframe\">\n",
       "  <thead>\n",
       "    <tr style=\"text-align: right;\">\n",
       "      <th></th>\n",
       "      <th>S. No.</th>\n",
       "      <th>Name of State / UT</th>\n",
       "      <th>Active Cases</th>\n",
       "      <th>Cured/Discharged/Migrated</th>\n",
       "      <th>Deaths</th>\n",
       "      <th>Total Confirmed cases</th>\n",
       "    </tr>\n",
       "  </thead>\n",
       "  <tbody>\n",
       "    <tr>\n",
       "      <th>0</th>\n",
       "      <td>1</td>\n",
       "      <td>Andaman and Nicobar</td>\n",
       "      <td>104</td>\n",
       "      <td>7104</td>\n",
       "      <td>127</td>\n",
       "      <td>7335</td>\n",
       "    </tr>\n",
       "    <tr>\n",
       "      <th>1</th>\n",
       "      <td>2</td>\n",
       "      <td>Andhra Pradesh</td>\n",
       "      <td>69831</td>\n",
       "      <td>1750904</td>\n",
       "      <td>12167</td>\n",
       "      <td>1832902</td>\n",
       "    </tr>\n",
       "    <tr>\n",
       "      <th>2</th>\n",
       "      <td>3</td>\n",
       "      <td>Arunachal Pradesh</td>\n",
       "      <td>2713</td>\n",
       "      <td>29612</td>\n",
       "      <td>158</td>\n",
       "      <td>32483</td>\n",
       "    </tr>\n",
       "    <tr>\n",
       "      <th>3</th>\n",
       "      <td>4</td>\n",
       "      <td>Assam</td>\n",
       "      <td>38140</td>\n",
       "      <td>431208</td>\n",
       "      <td>4105</td>\n",
       "      <td>473453</td>\n",
       "    </tr>\n",
       "    <tr>\n",
       "      <th>4</th>\n",
       "      <td>5</td>\n",
       "      <td>Bihar</td>\n",
       "      <td>3804</td>\n",
       "      <td>705373</td>\n",
       "      <td>9527</td>\n",
       "      <td>718704</td>\n",
       "    </tr>\n",
       "    <tr>\n",
       "      <th>5</th>\n",
       "      <td>6</td>\n",
       "      <td>Chandigarh</td>\n",
       "      <td>432</td>\n",
       "      <td>60076</td>\n",
       "      <td>802</td>\n",
       "      <td>61310</td>\n",
       "    </tr>\n",
       "    <tr>\n",
       "      <th>6</th>\n",
       "      <td>7</td>\n",
       "      <td>Chhattisgarh</td>\n",
       "      <td>10682</td>\n",
       "      <td>965292</td>\n",
       "      <td>13361</td>\n",
       "      <td>989335</td>\n",
       "    </tr>\n",
       "    <tr>\n",
       "      <th>7</th>\n",
       "      <td>8</td>\n",
       "      <td>Dadra and Nagar Haveli and Daman and Diu</td>\n",
       "      <td>71</td>\n",
       "      <td>10417</td>\n",
       "      <td>4</td>\n",
       "      <td>10492</td>\n",
       "    </tr>\n",
       "    <tr>\n",
       "      <th>8</th>\n",
       "      <td>9</td>\n",
       "      <td>Delhi</td>\n",
       "      <td>2554</td>\n",
       "      <td>1404428</td>\n",
       "      <td>24886</td>\n",
       "      <td>1431868</td>\n",
       "    </tr>\n",
       "    <tr>\n",
       "      <th>9</th>\n",
       "      <td>10</td>\n",
       "      <td>Goa</td>\n",
       "      <td>3824</td>\n",
       "      <td>156819</td>\n",
       "      <td>2969</td>\n",
       "      <td>163612</td>\n",
       "    </tr>\n",
       "    <tr>\n",
       "      <th>10</th>\n",
       "      <td>11</td>\n",
       "      <td>Gujarat</td>\n",
       "      <td>7749</td>\n",
       "      <td>803892</td>\n",
       "      <td>10018</td>\n",
       "      <td>821659</td>\n",
       "    </tr>\n",
       "    <tr>\n",
       "      <th>11</th>\n",
       "      <td>12</td>\n",
       "      <td>Haryana</td>\n",
       "      <td>3227</td>\n",
       "      <td>754464</td>\n",
       "      <td>9147</td>\n",
       "      <td>766838</td>\n",
       "    </tr>\n",
       "    <tr>\n",
       "      <th>12</th>\n",
       "      <td>13</td>\n",
       "      <td>Himachal Pradesh</td>\n",
       "      <td>3430</td>\n",
       "      <td>192845</td>\n",
       "      <td>3424</td>\n",
       "      <td>199699</td>\n",
       "    </tr>\n",
       "    <tr>\n",
       "      <th>13</th>\n",
       "      <td>14</td>\n",
       "      <td>Jammu and Kashmir</td>\n",
       "      <td>10602</td>\n",
       "      <td>295189</td>\n",
       "      <td>4226</td>\n",
       "      <td>310017</td>\n",
       "    </tr>\n",
       "    <tr>\n",
       "      <th>14</th>\n",
       "      <td>15</td>\n",
       "      <td>Jharkhand</td>\n",
       "      <td>1946</td>\n",
       "      <td>337088</td>\n",
       "      <td>5095</td>\n",
       "      <td>344129</td>\n",
       "    </tr>\n",
       "    <tr>\n",
       "      <th>15</th>\n",
       "      <td>16</td>\n",
       "      <td>Karnataka</td>\n",
       "      <td>146747</td>\n",
       "      <td>2610157</td>\n",
       "      <td>33434</td>\n",
       "      <td>2790338</td>\n",
       "    </tr>\n",
       "    <tr>\n",
       "      <th>16</th>\n",
       "      <td>17</td>\n",
       "      <td>Kerala</td>\n",
       "      <td>108993</td>\n",
       "      <td>2653207</td>\n",
       "      <td>11743</td>\n",
       "      <td>2773943</td>\n",
       "    </tr>\n",
       "    <tr>\n",
       "      <th>17</th>\n",
       "      <td>18</td>\n",
       "      <td>Ladakh</td>\n",
       "      <td>482</td>\n",
       "      <td>19022</td>\n",
       "      <td>200</td>\n",
       "      <td>19704</td>\n",
       "    </tr>\n",
       "    <tr>\n",
       "      <th>18</th>\n",
       "      <td>19</td>\n",
       "      <td>Lakshadweep</td>\n",
       "      <td>399</td>\n",
       "      <td>8933</td>\n",
       "      <td>45</td>\n",
       "      <td>9377</td>\n",
       "    </tr>\n",
       "    <tr>\n",
       "      <th>19</th>\n",
       "      <td>20</td>\n",
       "      <td>Maharashtra</td>\n",
       "      <td>143048</td>\n",
       "      <td>5685636</td>\n",
       "      <td>116026</td>\n",
       "      <td>5944710</td>\n",
       "    </tr>\n",
       "    <tr>\n",
       "      <th>20</th>\n",
       "      <td>21</td>\n",
       "      <td>Manipur</td>\n",
       "      <td>9102</td>\n",
       "      <td>52220</td>\n",
       "      <td>1021</td>\n",
       "      <td>62343</td>\n",
       "    </tr>\n",
       "    <tr>\n",
       "      <th>21</th>\n",
       "      <td>22</td>\n",
       "      <td>Meghalaya</td>\n",
       "      <td>4609</td>\n",
       "      <td>38361</td>\n",
       "      <td>762</td>\n",
       "      <td>43732</td>\n",
       "    </tr>\n",
       "    <tr>\n",
       "      <th>22</th>\n",
       "      <td>23</td>\n",
       "      <td>Mizoram</td>\n",
       "      <td>3732</td>\n",
       "      <td>12630</td>\n",
       "      <td>75</td>\n",
       "      <td>16437</td>\n",
       "    </tr>\n",
       "    <tr>\n",
       "      <th>23</th>\n",
       "      <td>24</td>\n",
       "      <td>Madhya Pradesh</td>\n",
       "      <td>2984</td>\n",
       "      <td>777291</td>\n",
       "      <td>8679</td>\n",
       "      <td>788954</td>\n",
       "    </tr>\n",
       "    <tr>\n",
       "      <th>24</th>\n",
       "      <td>25</td>\n",
       "      <td>Nagaland</td>\n",
       "      <td>2368</td>\n",
       "      <td>21207</td>\n",
       "      <td>466</td>\n",
       "      <td>24041</td>\n",
       "    </tr>\n",
       "    <tr>\n",
       "      <th>25</th>\n",
       "      <td>26</td>\n",
       "      <td>Odisha</td>\n",
       "      <td>39622</td>\n",
       "      <td>823599</td>\n",
       "      <td>3471</td>\n",
       "      <td>866692</td>\n",
       "    </tr>\n",
       "    <tr>\n",
       "      <th>26</th>\n",
       "      <td>27</td>\n",
       "      <td>Puducherry</td>\n",
       "      <td>4333</td>\n",
       "      <td>107905</td>\n",
       "      <td>1710</td>\n",
       "      <td>113948</td>\n",
       "    </tr>\n",
       "    <tr>\n",
       "      <th>27</th>\n",
       "      <td>28</td>\n",
       "      <td>Punjab</td>\n",
       "      <td>9479</td>\n",
       "      <td>565339</td>\n",
       "      <td>15738</td>\n",
       "      <td>590556</td>\n",
       "    </tr>\n",
       "    <tr>\n",
       "      <th>28</th>\n",
       "      <td>29</td>\n",
       "      <td>Rajasthan</td>\n",
       "      <td>4262</td>\n",
       "      <td>937481</td>\n",
       "      <td>8875</td>\n",
       "      <td>950618</td>\n",
       "    </tr>\n",
       "    <tr>\n",
       "      <th>29</th>\n",
       "      <td>30</td>\n",
       "      <td>Sikkim</td>\n",
       "      <td>2907</td>\n",
       "      <td>15702</td>\n",
       "      <td>287</td>\n",
       "      <td>18896</td>\n",
       "    </tr>\n",
       "    <tr>\n",
       "      <th>30</th>\n",
       "      <td>31</td>\n",
       "      <td>Tamil Nadu</td>\n",
       "      <td>100523</td>\n",
       "      <td>2266793</td>\n",
       "      <td>30548</td>\n",
       "      <td>2397864</td>\n",
       "    </tr>\n",
       "    <tr>\n",
       "      <th>31</th>\n",
       "      <td>32</td>\n",
       "      <td>Telengana</td>\n",
       "      <td>19521</td>\n",
       "      <td>586362</td>\n",
       "      <td>3534</td>\n",
       "      <td>609417</td>\n",
       "    </tr>\n",
       "    <tr>\n",
       "      <th>32</th>\n",
       "      <td>33</td>\n",
       "      <td>Tripura</td>\n",
       "      <td>4873</td>\n",
       "      <td>55829</td>\n",
       "      <td>637</td>\n",
       "      <td>61339</td>\n",
       "    </tr>\n",
       "    <tr>\n",
       "      <th>33</th>\n",
       "      <td>34</td>\n",
       "      <td>Uttar Pradesh</td>\n",
       "      <td>6019</td>\n",
       "      <td>1675684</td>\n",
       "      <td>22030</td>\n",
       "      <td>1703733</td>\n",
       "    </tr>\n",
       "    <tr>\n",
       "      <th>34</th>\n",
       "      <td>35</td>\n",
       "      <td>Uttarakhand</td>\n",
       "      <td>3471</td>\n",
       "      <td>327584</td>\n",
       "      <td>7011</td>\n",
       "      <td>338066</td>\n",
       "    </tr>\n",
       "    <tr>\n",
       "      <th>35</th>\n",
       "      <td>36</td>\n",
       "      <td>West Bengal</td>\n",
       "      <td>22073</td>\n",
       "      <td>1434994</td>\n",
       "      <td>17182</td>\n",
       "      <td>1474249</td>\n",
       "    </tr>\n",
       "  </tbody>\n",
       "</table>\n",
       "</div>"
      ],
      "text/plain": [
       "    S. No.                        Name of State / UT  Active Cases  \\\n",
       "0        1                       Andaman and Nicobar           104   \n",
       "1        2                            Andhra Pradesh         69831   \n",
       "2        3                         Arunachal Pradesh          2713   \n",
       "3        4                                     Assam         38140   \n",
       "4        5                                     Bihar          3804   \n",
       "5        6                                Chandigarh           432   \n",
       "6        7                              Chhattisgarh         10682   \n",
       "7        8  Dadra and Nagar Haveli and Daman and Diu            71   \n",
       "8        9                                     Delhi          2554   \n",
       "9       10                                       Goa          3824   \n",
       "10      11                                   Gujarat          7749   \n",
       "11      12                                   Haryana          3227   \n",
       "12      13                          Himachal Pradesh          3430   \n",
       "13      14                         Jammu and Kashmir         10602   \n",
       "14      15                                 Jharkhand          1946   \n",
       "15      16                                 Karnataka        146747   \n",
       "16      17                                    Kerala        108993   \n",
       "17      18                                    Ladakh           482   \n",
       "18      19                               Lakshadweep           399   \n",
       "19      20                               Maharashtra        143048   \n",
       "20      21                                   Manipur          9102   \n",
       "21      22                                 Meghalaya          4609   \n",
       "22      23                                   Mizoram          3732   \n",
       "23      24                            Madhya Pradesh          2984   \n",
       "24      25                                  Nagaland          2368   \n",
       "25      26                                    Odisha         39622   \n",
       "26      27                                Puducherry          4333   \n",
       "27      28                                    Punjab          9479   \n",
       "28      29                                 Rajasthan          4262   \n",
       "29      30                                    Sikkim          2907   \n",
       "30      31                                Tamil Nadu        100523   \n",
       "31      32                                 Telengana         19521   \n",
       "32      33                                   Tripura          4873   \n",
       "33      34                             Uttar Pradesh          6019   \n",
       "34      35                               Uttarakhand          3471   \n",
       "35      36                               West Bengal         22073   \n",
       "\n",
       "    Cured/Discharged/Migrated  Deaths  Total Confirmed cases  \n",
       "0                        7104     127                   7335  \n",
       "1                     1750904   12167                1832902  \n",
       "2                       29612     158                  32483  \n",
       "3                      431208    4105                 473453  \n",
       "4                      705373    9527                 718704  \n",
       "5                       60076     802                  61310  \n",
       "6                      965292   13361                 989335  \n",
       "7                       10417       4                  10492  \n",
       "8                     1404428   24886                1431868  \n",
       "9                      156819    2969                 163612  \n",
       "10                     803892   10018                 821659  \n",
       "11                     754464    9147                 766838  \n",
       "12                     192845    3424                 199699  \n",
       "13                     295189    4226                 310017  \n",
       "14                     337088    5095                 344129  \n",
       "15                    2610157   33434                2790338  \n",
       "16                    2653207   11743                2773943  \n",
       "17                      19022     200                  19704  \n",
       "18                       8933      45                   9377  \n",
       "19                    5685636  116026                5944710  \n",
       "20                      52220    1021                  62343  \n",
       "21                      38361     762                  43732  \n",
       "22                      12630      75                  16437  \n",
       "23                     777291    8679                 788954  \n",
       "24                      21207     466                  24041  \n",
       "25                     823599    3471                 866692  \n",
       "26                     107905    1710                 113948  \n",
       "27                     565339   15738                 590556  \n",
       "28                     937481    8875                 950618  \n",
       "29                      15702     287                  18896  \n",
       "30                    2266793   30548                2397864  \n",
       "31                     586362    3534                 609417  \n",
       "32                      55829     637                  61339  \n",
       "33                    1675684   22030                1703733  \n",
       "34                     327584    7011                 338066  \n",
       "35                    1434994   17182                1474249  "
      ]
     },
     "execution_count": 5,
     "metadata": {},
     "output_type": "execute_result"
    }
   ],
   "source": [
    "data"
   ]
  },
  {
   "cell_type": "markdown",
   "id": "210f743e",
   "metadata": {},
   "source": [
    "# first 5 rows"
   ]
  },
  {
   "cell_type": "code",
   "execution_count": 6,
   "id": "d4e89137",
   "metadata": {},
   "outputs": [
    {
     "data": {
      "text/html": [
       "<div>\n",
       "<style scoped>\n",
       "    .dataframe tbody tr th:only-of-type {\n",
       "        vertical-align: middle;\n",
       "    }\n",
       "\n",
       "    .dataframe tbody tr th {\n",
       "        vertical-align: top;\n",
       "    }\n",
       "\n",
       "    .dataframe thead th {\n",
       "        text-align: right;\n",
       "    }\n",
       "</style>\n",
       "<table border=\"1\" class=\"dataframe\">\n",
       "  <thead>\n",
       "    <tr style=\"text-align: right;\">\n",
       "      <th></th>\n",
       "      <th>S. No.</th>\n",
       "      <th>Name of State / UT</th>\n",
       "      <th>Active Cases</th>\n",
       "      <th>Cured/Discharged/Migrated</th>\n",
       "      <th>Deaths</th>\n",
       "      <th>Total Confirmed cases</th>\n",
       "    </tr>\n",
       "  </thead>\n",
       "  <tbody>\n",
       "    <tr>\n",
       "      <th>0</th>\n",
       "      <td>1</td>\n",
       "      <td>Andaman and Nicobar</td>\n",
       "      <td>104</td>\n",
       "      <td>7104</td>\n",
       "      <td>127</td>\n",
       "      <td>7335</td>\n",
       "    </tr>\n",
       "    <tr>\n",
       "      <th>1</th>\n",
       "      <td>2</td>\n",
       "      <td>Andhra Pradesh</td>\n",
       "      <td>69831</td>\n",
       "      <td>1750904</td>\n",
       "      <td>12167</td>\n",
       "      <td>1832902</td>\n",
       "    </tr>\n",
       "    <tr>\n",
       "      <th>2</th>\n",
       "      <td>3</td>\n",
       "      <td>Arunachal Pradesh</td>\n",
       "      <td>2713</td>\n",
       "      <td>29612</td>\n",
       "      <td>158</td>\n",
       "      <td>32483</td>\n",
       "    </tr>\n",
       "    <tr>\n",
       "      <th>3</th>\n",
       "      <td>4</td>\n",
       "      <td>Assam</td>\n",
       "      <td>38140</td>\n",
       "      <td>431208</td>\n",
       "      <td>4105</td>\n",
       "      <td>473453</td>\n",
       "    </tr>\n",
       "    <tr>\n",
       "      <th>4</th>\n",
       "      <td>5</td>\n",
       "      <td>Bihar</td>\n",
       "      <td>3804</td>\n",
       "      <td>705373</td>\n",
       "      <td>9527</td>\n",
       "      <td>718704</td>\n",
       "    </tr>\n",
       "  </tbody>\n",
       "</table>\n",
       "</div>"
      ],
      "text/plain": [
       "   S. No.   Name of State / UT  Active Cases  Cured/Discharged/Migrated  \\\n",
       "0       1  Andaman and Nicobar           104                       7104   \n",
       "1       2       Andhra Pradesh         69831                    1750904   \n",
       "2       3    Arunachal Pradesh          2713                      29612   \n",
       "3       4                Assam         38140                     431208   \n",
       "4       5                Bihar          3804                     705373   \n",
       "\n",
       "   Deaths  Total Confirmed cases  \n",
       "0     127                   7335  \n",
       "1   12167                1832902  \n",
       "2     158                  32483  \n",
       "3    4105                 473453  \n",
       "4    9527                 718704  "
      ]
     },
     "execution_count": 6,
     "metadata": {},
     "output_type": "execute_result"
    }
   ],
   "source": [
    "data.head()"
   ]
  },
  {
   "cell_type": "markdown",
   "id": "34a93d4e",
   "metadata": {},
   "source": [
    "# last 5 rows"
   ]
  },
  {
   "cell_type": "code",
   "execution_count": 7,
   "id": "9a48e481",
   "metadata": {},
   "outputs": [
    {
     "data": {
      "text/html": [
       "<div>\n",
       "<style scoped>\n",
       "    .dataframe tbody tr th:only-of-type {\n",
       "        vertical-align: middle;\n",
       "    }\n",
       "\n",
       "    .dataframe tbody tr th {\n",
       "        vertical-align: top;\n",
       "    }\n",
       "\n",
       "    .dataframe thead th {\n",
       "        text-align: right;\n",
       "    }\n",
       "</style>\n",
       "<table border=\"1\" class=\"dataframe\">\n",
       "  <thead>\n",
       "    <tr style=\"text-align: right;\">\n",
       "      <th></th>\n",
       "      <th>S. No.</th>\n",
       "      <th>Name of State / UT</th>\n",
       "      <th>Active Cases</th>\n",
       "      <th>Cured/Discharged/Migrated</th>\n",
       "      <th>Deaths</th>\n",
       "      <th>Total Confirmed cases</th>\n",
       "    </tr>\n",
       "  </thead>\n",
       "  <tbody>\n",
       "    <tr>\n",
       "      <th>31</th>\n",
       "      <td>32</td>\n",
       "      <td>Telengana</td>\n",
       "      <td>19521</td>\n",
       "      <td>586362</td>\n",
       "      <td>3534</td>\n",
       "      <td>609417</td>\n",
       "    </tr>\n",
       "    <tr>\n",
       "      <th>32</th>\n",
       "      <td>33</td>\n",
       "      <td>Tripura</td>\n",
       "      <td>4873</td>\n",
       "      <td>55829</td>\n",
       "      <td>637</td>\n",
       "      <td>61339</td>\n",
       "    </tr>\n",
       "    <tr>\n",
       "      <th>33</th>\n",
       "      <td>34</td>\n",
       "      <td>Uttar Pradesh</td>\n",
       "      <td>6019</td>\n",
       "      <td>1675684</td>\n",
       "      <td>22030</td>\n",
       "      <td>1703733</td>\n",
       "    </tr>\n",
       "    <tr>\n",
       "      <th>34</th>\n",
       "      <td>35</td>\n",
       "      <td>Uttarakhand</td>\n",
       "      <td>3471</td>\n",
       "      <td>327584</td>\n",
       "      <td>7011</td>\n",
       "      <td>338066</td>\n",
       "    </tr>\n",
       "    <tr>\n",
       "      <th>35</th>\n",
       "      <td>36</td>\n",
       "      <td>West Bengal</td>\n",
       "      <td>22073</td>\n",
       "      <td>1434994</td>\n",
       "      <td>17182</td>\n",
       "      <td>1474249</td>\n",
       "    </tr>\n",
       "  </tbody>\n",
       "</table>\n",
       "</div>"
      ],
      "text/plain": [
       "    S. No. Name of State / UT  Active Cases  Cured/Discharged/Migrated  \\\n",
       "31      32          Telengana         19521                     586362   \n",
       "32      33            Tripura          4873                      55829   \n",
       "33      34      Uttar Pradesh          6019                    1675684   \n",
       "34      35        Uttarakhand          3471                     327584   \n",
       "35      36        West Bengal         22073                    1434994   \n",
       "\n",
       "    Deaths  Total Confirmed cases  \n",
       "31    3534                 609417  \n",
       "32     637                  61339  \n",
       "33   22030                1703733  \n",
       "34    7011                 338066  \n",
       "35   17182                1474249  "
      ]
     },
     "execution_count": 7,
     "metadata": {},
     "output_type": "execute_result"
    }
   ],
   "source": [
    "data.tail()"
   ]
  },
  {
   "cell_type": "markdown",
   "id": "b1dd27e5",
   "metadata": {},
   "source": [
    "# total columns"
   ]
  },
  {
   "cell_type": "code",
   "execution_count": 8,
   "id": "037c0a39",
   "metadata": {},
   "outputs": [
    {
     "data": {
      "text/plain": [
       "Index(['S. No.', 'Name of State / UT', 'Active Cases',\n",
       "       'Cured/Discharged/Migrated', 'Deaths', 'Total Confirmed cases'],\n",
       "      dtype='object')"
      ]
     },
     "execution_count": 8,
     "metadata": {},
     "output_type": "execute_result"
    }
   ],
   "source": [
    "data.columns"
   ]
  },
  {
   "cell_type": "code",
   "execution_count": 9,
   "id": "048cea57",
   "metadata": {
    "scrolled": true
   },
   "outputs": [
    {
     "data": {
      "text/html": [
       "<div>\n",
       "<style scoped>\n",
       "    .dataframe tbody tr th:only-of-type {\n",
       "        vertical-align: middle;\n",
       "    }\n",
       "\n",
       "    .dataframe tbody tr th {\n",
       "        vertical-align: top;\n",
       "    }\n",
       "\n",
       "    .dataframe thead th {\n",
       "        text-align: right;\n",
       "    }\n",
       "</style>\n",
       "<table border=\"1\" class=\"dataframe\">\n",
       "  <thead>\n",
       "    <tr style=\"text-align: right;\">\n",
       "      <th></th>\n",
       "      <th>S. No.</th>\n",
       "      <th>Active Cases</th>\n",
       "      <th>Cured/Discharged/Migrated</th>\n",
       "      <th>Deaths</th>\n",
       "      <th>Total Confirmed cases</th>\n",
       "    </tr>\n",
       "  </thead>\n",
       "  <tbody>\n",
       "    <tr>\n",
       "      <th>count</th>\n",
       "      <td>36.000000</td>\n",
       "      <td>36.000000</td>\n",
       "      <td>3.600000e+01</td>\n",
       "      <td>36.000000</td>\n",
       "      <td>3.600000e+01</td>\n",
       "    </tr>\n",
       "    <tr>\n",
       "      <th>mean</th>\n",
       "      <td>18.500000</td>\n",
       "      <td>22184.888889</td>\n",
       "      <td>7.939069e+05</td>\n",
       "      <td>10652.500000</td>\n",
       "      <td>8.267442e+05</td>\n",
       "    </tr>\n",
       "    <tr>\n",
       "      <th>std</th>\n",
       "      <td>10.535654</td>\n",
       "      <td>39903.013272</td>\n",
       "      <td>1.128619e+06</td>\n",
       "      <td>20092.410639</td>\n",
       "      <td>1.181458e+06</td>\n",
       "    </tr>\n",
       "    <tr>\n",
       "      <th>min</th>\n",
       "      <td>1.000000</td>\n",
       "      <td>71.000000</td>\n",
       "      <td>7.104000e+03</td>\n",
       "      <td>4.000000</td>\n",
       "      <td>7.335000e+03</td>\n",
       "    </tr>\n",
       "    <tr>\n",
       "      <th>25%</th>\n",
       "      <td>9.750000</td>\n",
       "      <td>2858.500000</td>\n",
       "      <td>4.875525e+04</td>\n",
       "      <td>730.750000</td>\n",
       "      <td>5.691550e+04</td>\n",
       "    </tr>\n",
       "    <tr>\n",
       "      <th>50%</th>\n",
       "      <td>18.500000</td>\n",
       "      <td>4297.500000</td>\n",
       "      <td>3.841480e+05</td>\n",
       "      <td>4165.500000</td>\n",
       "      <td>4.087910e+05</td>\n",
       "    </tr>\n",
       "    <tr>\n",
       "      <th>75%</th>\n",
       "      <td>27.250000</td>\n",
       "      <td>12891.750000</td>\n",
       "      <td>9.444338e+05</td>\n",
       "      <td>11849.000000</td>\n",
       "      <td>9.602972e+05</td>\n",
       "    </tr>\n",
       "    <tr>\n",
       "      <th>max</th>\n",
       "      <td>36.000000</td>\n",
       "      <td>146747.000000</td>\n",
       "      <td>5.685636e+06</td>\n",
       "      <td>116026.000000</td>\n",
       "      <td>5.944710e+06</td>\n",
       "    </tr>\n",
       "  </tbody>\n",
       "</table>\n",
       "</div>"
      ],
      "text/plain": [
       "          S. No.   Active Cases  Cured/Discharged/Migrated         Deaths  \\\n",
       "count  36.000000      36.000000               3.600000e+01      36.000000   \n",
       "mean   18.500000   22184.888889               7.939069e+05   10652.500000   \n",
       "std    10.535654   39903.013272               1.128619e+06   20092.410639   \n",
       "min     1.000000      71.000000               7.104000e+03       4.000000   \n",
       "25%     9.750000    2858.500000               4.875525e+04     730.750000   \n",
       "50%    18.500000    4297.500000               3.841480e+05    4165.500000   \n",
       "75%    27.250000   12891.750000               9.444338e+05   11849.000000   \n",
       "max    36.000000  146747.000000               5.685636e+06  116026.000000   \n",
       "\n",
       "       Total Confirmed cases  \n",
       "count           3.600000e+01  \n",
       "mean            8.267442e+05  \n",
       "std             1.181458e+06  \n",
       "min             7.335000e+03  \n",
       "25%             5.691550e+04  \n",
       "50%             4.087910e+05  \n",
       "75%             9.602972e+05  \n",
       "max             5.944710e+06  "
      ]
     },
     "execution_count": 9,
     "metadata": {},
     "output_type": "execute_result"
    }
   ],
   "source": [
    "data.describe()"
   ]
  },
  {
   "cell_type": "code",
   "execution_count": 10,
   "id": "d864ab3a",
   "metadata": {},
   "outputs": [
    {
     "data": {
      "text/plain": [
       "S. No.                       0\n",
       "Name of State / UT           0\n",
       "Active Cases                 0\n",
       "Cured/Discharged/Migrated    0\n",
       "Deaths                       0\n",
       "Total Confirmed cases        0\n",
       "dtype: int64"
      ]
     },
     "execution_count": 10,
     "metadata": {},
     "output_type": "execute_result"
    }
   ],
   "source": [
    "data.isnull().sum()"
   ]
  },
  {
   "cell_type": "code",
   "execution_count": 11,
   "id": "1f8a4747",
   "metadata": {},
   "outputs": [
    {
     "data": {
      "text/plain": [
       "Index(['S. No.', 'Name of State / UT', 'Active Cases',\n",
       "       'Cured/Discharged/Migrated', 'Deaths', 'Total Confirmed cases'],\n",
       "      dtype='object')"
      ]
     },
     "execution_count": 11,
     "metadata": {},
     "output_type": "execute_result"
    }
   ],
   "source": [
    "data.columns"
   ]
  },
  {
   "cell_type": "markdown",
   "id": "64775484",
   "metadata": {},
   "source": [
    "# relating variables with scatterplot"
   ]
  },
  {
   "cell_type": "code",
   "execution_count": 13,
   "id": "41c9c315",
   "metadata": {},
   "outputs": [
    {
     "data": {
      "text/plain": [
       "<seaborn.axisgrid.FacetGrid at 0x1952ed11280>"
      ]
     },
     "execution_count": 13,
     "metadata": {},
     "output_type": "execute_result"
    },
    {
     "data": {
      "image/png": "[encoded data removed]",
      "text/plain": [
       "<Figure size 360x360 with 1 Axes>"
      ]
     },
     "metadata": {
      "needs_background": "light"
     },
     "output_type": "display_data"
    }
   ],
   "source": [
    "sns.relplot(x='Total Confirmed cases',y ='Cured/Discharged/Migrated',data=data)"
   ]
  },
  {
   "cell_type": "code",
   "execution_count": 17,
   "id": "46eafa68",
   "metadata": {},
   "outputs": [
    {
     "data": {
      "text/plain": [
       "<seaborn.axisgrid.FacetGrid at 0x1952f4df4f0>"
      ]
     },
     "execution_count": 17,
     "metadata": {},
     "output_type": "execute_result"
    },
    {
     "data": {
      "image/png": "[encoded data removed]",
      "text/plain": [
       "<Figure size 360x360 with 1 Axes>"
      ]
     },
     "metadata": {
      "needs_background": "light"
     },
     "output_type": "display_data"
    }
   ],
   "source": [
    "sns.relplot(x='Active Cases',y='Cured/Discharged/Migrated',data=data)"
   ]
  },
  {
   "cell_type": "code",
   "execution_count": 21,
   "id": "47095295",
   "metadata": {},
   "outputs": [
    {
     "data": {
      "text/plain": [
       "<seaborn.axisgrid.FacetGrid at 0x195307f2fd0>"
      ]
     },
     "execution_count": 21,
     "metadata": {},
     "output_type": "execute_result"
    },
    {
     "data": {
      "image/png": "[encoded data removed]",
      "text/plain": [
       "<Figure size 360x360 with 1 Axes>"
      ]
     },
     "metadata": {
      "needs_background": "light"
     },
     "output_type": "display_data"
    }
   ],
   "source": [
    "sns.relplot(x='Total Confirmed cases',y ='Deaths',data=data)"
   ]
  },
  {
   "cell_type": "code",
   "execution_count": 20,
   "id": "82d8082f",
   "metadata": {},
   "outputs": [
    {
     "data": {
      "text/plain": [
       "<seaborn.axisgrid.FacetGrid at 0x195306100a0>"
      ]
     },
     "execution_count": 20,
     "metadata": {},
     "output_type": "execute_result"
    },
    {
     "data": {
      "image/png": "[encoded data removed]",
      "text/plain": [
       "<Figure size 434.25x360 with 1 Axes>"
      ]
     },
     "metadata": {
      "needs_background": "light"
     },
     "output_type": "display_data"
    }
   ],
   "source": [
    "sns.relplot(x='Total Confirmed cases',y='Cured/Discharged/Migrated',hue='Deaths',data=data)"
   ]
  },
  {
   "cell_type": "code",
   "execution_count": 25,
   "id": "516b30bc",
   "metadata": {},
   "outputs": [
    {
     "data": {
      "text/plain": [
       "<seaborn.axisgrid.PairGrid at 0x195344f49a0>"
      ]
     },
     "execution_count": 25,
     "metadata": {},
     "output_type": "execute_result"
    },
    {
     "data": {
      "image/png": "[encoded data removed]",
      "text/plain": [
       "<Figure size 900x900 with 30 Axes>"
      ]
     },
     "metadata": {
      "needs_background": "light"
     },
     "output_type": "display_data"
    }
   ],
   "source": [
    "sns.pairplot(data)"
   ]
  },
  {
   "cell_type": "code",
   "execution_count": 26,
   "id": "905fc79f",
   "metadata": {},
   "outputs": [
    {
     "data": {
      "text/plain": [
       "Index(['S. No.', 'Name of State / UT', 'Active Cases',\n",
       "       'Cured/Discharged/Migrated', 'Deaths', 'Total Confirmed cases'],\n",
       "      dtype='object')"
      ]
     },
     "execution_count": 26,
     "metadata": {},
     "output_type": "execute_result"
    }
   ],
   "source": [
    "data.columns"
   ]
  },
  {
   "cell_type": "code",
   "execution_count": 27,
   "id": "887b74f3",
   "metadata": {},
   "outputs": [
    {
     "data": {
      "text/plain": [
       "<seaborn.axisgrid.FacetGrid at 0x19535650fd0>"
      ]
     },
     "execution_count": 27,
     "metadata": {},
     "output_type": "execute_result"
    },
    {
     "data": {
      "image/png": "[encoded data removed]",
      "text/plain": [
       "<Figure size 360x360 with 1 Axes>"
      ]
     },
     "metadata": {
      "needs_background": "light"
     },
     "output_type": "display_data"
    }
   ],
   "source": [
    "sns.relplot(x='Active Cases',y='Cured/Discharged/Migrated',kind='line',data=data)"
   ]
  },
  {
   "cell_type": "code",
   "execution_count": 23,
   "id": "b6324887",
   "metadata": {},
   "outputs": [
    {
     "data": {
      "text/plain": [
       "<seaborn.axisgrid.FacetGrid at 0x195307a0c40>"
      ]
     },
     "execution_count": 23,
     "metadata": {},
     "output_type": "execute_result"
    },
    {
     "data": {
      "image/png": "[encoded data removed]",
      "text/plain": [
       "<Figure size 360x360 with 1 Axes>"
      ]
     },
     "metadata": {
      "needs_background": "light"
     },
     "output_type": "display_data"
    }
   ],
   "source": [
    "sns.relplot(x='Total Confirmed cases',y ='Deaths',kind='line',data=data)"
   ]
  },
  {
   "cell_type": "code",
   "execution_count": 30,
   "id": "fb90eb8b",
   "metadata": {},
   "outputs": [
    {
     "data": {
      "text/plain": [
       "<seaborn.axisgrid.FacetGrid at 0x19535a8fac0>"
      ]
     },
     "execution_count": 30,
     "metadata": {},
     "output_type": "execute_result"
    },
    {
     "data": {
      "image/png": "[encoded data removed]",
      "text/plain": [
       "<Figure size 360x360 with 1 Axes>"
      ]
     },
     "metadata": {
      "needs_background": "light"
     },
     "output_type": "display_data"
    }
   ],
   "source": [
    "sns.catplot(x='Active Cases',y='Cured/Discharged/Migrated',data=data)"
   ]
  },
  {
   "cell_type": "code",
   "execution_count": null,
   "id": "a1787a24",
   "metadata": {},
   "outputs": [],
   "source": []
  }
 ],
 "metadata": {
  "kernelspec": {
   "display_name": "Python 3",
   "language": "python",
   "name": "python3"
  },
  "language_info": {
   "codemirror_mode": {
    "name": "ipython",
    "version": 3
   },
   "file_extension": ".py",
   "mimetype": "text/x-python",
   "name": "python",
   "nbconvert_exporter": "python",
   "pygments_lexer": "ipython3",
   "version": "3.8.8"
  }
 },
 "nbformat": 4,
 "nbformat_minor": 5
}
